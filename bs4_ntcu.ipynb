{
 "cells": [
  {
   "cell_type": "code",
   "execution_count": 4,
   "id": "4e54819c",
   "metadata": {},
   "outputs": [
    {
     "name": "stdout",
     "output_type": "stream",
     "text": [
      "找到 20 次\n"
     ]
    }
   ],
   "source": [
    "import requests\n",
    "url = 'https://2023ntcu.ntcu.edu.tw/'\n",
    "html = requests.get(url)\n",
    "html.encoding = \"utf-8\"\n",
    "htmllist = html.text.splitlines()\n",
    "\n",
    "n = 0\n",
    "keyword = \"教育\"\n",
    "for row in htmllist:\n",
    "    if keyword in row:\n",
    "        n = n+1\n",
    "        \n",
    "print(\"找到 {} 次\".format(n))"
   ]
  },
  {
   "cell_type": "code",
   "execution_count": null,
   "id": "e4131f50",
   "metadata": {},
   "outputs": [],
   "source": []
  }
 ],
 "metadata": {
  "kernelspec": {
   "display_name": "Python 3 (ipykernel)",
   "language": "python",
   "name": "python3"
  },
  "language_info": {
   "codemirror_mode": {
    "name": "ipython",
    "version": 3
   },
   "file_extension": ".py",
   "mimetype": "text/x-python",
   "name": "python",
   "nbconvert_exporter": "python",
   "pygments_lexer": "ipython3",
   "version": "3.7.16"
  }
 },
 "nbformat": 4,
 "nbformat_minor": 5
}
